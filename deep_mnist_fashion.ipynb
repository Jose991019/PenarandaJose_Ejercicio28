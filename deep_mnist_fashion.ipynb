{
 "cells": [
  {
   "cell_type": "code",
   "execution_count": 1,
   "metadata": {},
   "outputs": [],
   "source": [
    "import numpy as np\n",
    "import matplotlib.pyplot as plt\n",
    "import sklearn.datasets\n",
    "import sklearn.cluster\n",
    "import sklearn.preprocessing\n",
    "import sklearn.neural_network\n",
    "import sklearn.linear_model\n",
    "import sklearn.model_selection\n",
    "import torch\n",
    "import torchvision\n",
    "import torchvision.datasets\n",
    "import torchvision.models\n",
    "import torchvision.transforms"
   ]
  },
  {
   "cell_type": "code",
   "execution_count": 2,
   "metadata": {},
   "outputs": [],
   "source": [
    "training = torchvision.datasets.FashionMNIST(root=\"./\", train=True, download=True)\n",
    "train_loader = torch.utils.data.DataLoader(training,shuffle=True)\n",
    "\n",
    "testing = torchvision.datasets.FashionMNIST(root=\"./\", train=False, download=True, \n",
    "                                            transform=torchvision.transforms.Normalize((0), (1.0)))\n",
    "testing_loader = torch.utils.data.DataLoader(testing, shuffle=True)"
   ]
  },
  {
   "cell_type": "code",
   "execution_count": 13,
   "metadata": {},
   "outputs": [],
   "source": [
    "train  = train_loader.dataset.data[:600].float()\n",
    "target = train_loader.dataset.targets[:600].float()\n",
    "\n",
    "mean = train.mean(dim=0)\n",
    "std = train.std(dim=0)\n",
    "std[std==0]=1.0\n",
    "\n",
    "for i in range(len(train)):\n",
    "    train[i] = (train[i]-mean)/std\n",
    "\n",
    "    \n",
    "test  = train_loader.dataset.data[600:1200].float()\n",
    "target_test = train_loader.dataset.targets[600:1200].float()\n",
    "\n",
    "mean = test.mean(dim=0)\n",
    "std = test.std(dim=0)\n",
    "std[std==0]=1.0\n",
    "\n",
    "for i in range(len(test)):\n",
    "    test[i] = (test[i]-mean)/std"
   ]
  },
  {
   "cell_type": "code",
   "execution_count": null,
   "metadata": {},
   "outputs": [],
   "source": [
    "x_train = train.unsqueeze(1)\n",
    "model = torch.nn.Sequential(\n",
    "    torch.nn.Conv2d(1, 15, 4),\n",
    "    torch.nn.MaxPool2d(kernel_size = 2),\n",
    "    torch.nn.Conv2d(15, 1, 2),\n",
    "    torch.nn.Linear(11, 10),\n",
    "    torch.nn.Flatten(),\n",
    "    torch.nn.Linear(110,10)\n",
    "    \n",
    ")\n",
    "x_train = train.unsqueeze(1)\n",
    "criterion = torch.nn.CrossEntropyLoss()\n",
    "optimizer = torch.optim.SGD(model.parameters(), lr=0.2) \n",
    "epochs = 60\n",
    "loss_values = np.zeros(epochs)\n",
    "F1_values_train = np.zeros(epochs)\n",
    "F1_values_test = np.zeros(epochs)\n",
    "\n",
    "for epoch in range(epochs):\n",
    "    X_new = np.expand_dims(x_train, 1) \n",
    "    inputs = torch.autograd.Variable(torch.Tensor(x_train).float())\n",
    "    targets = torch.autograd.Variable(torch.Tensor(target).long())\n",
    "    optimizer.zero_grad()\n",
    "    out = model(inputs)\n",
    "    out = out.squeeze(dim=1)\n",
    "    loss = criterion(out, targets)\n",
    "    loss.backward()\n",
    "    optimizer.step()\n",
    "    \n",
    "    values, Y_predicted = torch.max(out.data, 1)\n",
    "    loss_values[epoch] = loss.item()\n",
    "    F1_values_train[epoch] = sklearn.metrics.f1_score(target, Y_predicted, average='macro')\n",
    "    \n",
    "    \n",
    "    X_new = np.expand_dims(test, 1)\n",
    "    inputs_test = torch.autograd.Variable(torch.Tensor(X_new).float())\n",
    "    out_test = model(inputs_test)\n",
    "    out_test = out_test.squeeze(dim=1)\n",
    "    values, Y_predicted_test = torch.max(out_test.data, 1)\n",
    "    F1_values_test[epoch] = sklearn.metrics.f1_score(target_test, Y_predicted_test, average='macro')"
   ]
  },
  {
   "cell_type": "code",
   "execution_count": null,
   "metadata": {},
   "outputs": [],
   "source": [
    "plt.plot(np.arange(epochs), loss_values)\n",
    "plt.xlabel('epoch')\n",
    "plt.ylabel('loss')"
   ]
  },
  {
   "cell_type": "code",
   "execution_count": null,
   "metadata": {},
   "outputs": [],
   "source": [
    "plt.plot(np.arange(epochs), F1_values_train, label='train')\n",
    "plt.plot(np.arange(epochs), F1_values_test, label='test')\n",
    "plt.xlabel('epoch')\n",
    "plt.ylabel('F1')\n",
    "plt.legend()"
   ]
  },
  {
   "cell_type": "code",
   "execution_count": null,
   "metadata": {},
   "outputs": [],
   "source": []
  },
  {
   "cell_type": "code",
   "execution_count": null,
   "metadata": {},
   "outputs": [],
   "source": []
  }
 ],
 "metadata": {
  "kernelspec": {
   "display_name": "Python 3",
   "language": "python",
   "name": "python3"
  },
  "language_info": {
   "codemirror_mode": {
    "name": "ipython",
    "version": 3
   },
   "file_extension": ".py",
   "mimetype": "text/x-python",
   "name": "python",
   "nbconvert_exporter": "python",
   "pygments_lexer": "ipython3",
   "version": "3.7.6"
  }
 },
 "nbformat": 4,
 "nbformat_minor": 4
}
